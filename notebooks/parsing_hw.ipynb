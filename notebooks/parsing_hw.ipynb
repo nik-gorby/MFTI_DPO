{
  "cells": [
    {
      "cell_type": "markdown",
      "id": "fK2WCgO9bmnT",
      "metadata": {
        "id": "fK2WCgO9bmnT"
      },
      "source": [
        "# Цель задания\n",
        "\n",
        "Собрать новый датасет с помощью парсинга данных.\n",
        "\n",
        "## Формат сдачи\n",
        "\n",
        "Пришлите ссылку на репозиторий, в котором находятся:\n",
        "* Jupiter Notebook с кодом.\n",
        "* Итоговый датасет — файл в формате .csv.\n",
        "\n",
        "**Критерии оценки**:\n",
        "\n",
        "* Датасет содержит все необходимые поля; размер датасета соответствует эталонному на 90% и более, обучена модель, отправлен сабмишн и выводы — 5 баллов.\n",
        "* Датасет содержит все необходимые поля; размер датасета соответствует эталонному менее чем на 90%, правильная логика на этапах матчинга, парсинга доп. характеристик авто и мерджа с исходным датасетом — 4 балла.\n",
        "* Датасет содержит все или почти все необходимые поля; размер датасета соответствует эталонному менее чем на 90% допущена серьезная ошибка на одном из этапов: матчинг, парсинг доп. характеристик авто и мердж с исходным датасетом — 3 балла.\n",
        "* Получилось спарсить ссылки на модели автомобилей — 2 балла.\n",
        "* Код не исполняется; нет датасета — 1 балл."
      ]
    },
    {
      "cell_type": "markdown",
      "id": "5b108a1b-8c0b-4189-96f8-ae0c863f4cd6",
      "metadata": {
        "id": "5b108a1b-8c0b-4189-96f8-ae0c863f4cd6"
      },
      "source": [
        "# <center> 🤼‍♀️ Разминаемся (Задание 1)\n",
        "В качестве первого задания вам предстоит достать значения средних зарплат по городам России. Сайт, на котором они хранятся: https://stepik.org/media/attachments/lesson/866758/mean_salary_by_city.html"
      ]
    },
    {
      "cell_type": "markdown",
      "id": "a1426b08-e71d-4957-a1f3-36e84511c06f",
      "metadata": {
        "id": "a1426b08-e71d-4957-a1f3-36e84511c06f"
      },
      "source": [
        "Ответ - датафрейм, котором города идут в алфавитном порядке.\n",
        "\n",
        "Пример ответа:"
      ]
    },
    {
      "cell_type": "markdown",
      "id": "MczNfIZUA8UW",
      "metadata": {
        "id": "MczNfIZUA8UW"
      },
      "source": [
        "<left> <img src='https://github.com/PeMikj/images/blob/main/images/image1.png?raw=true' width=\"550\" >"
      ]
    },
    {
      "cell_type": "code",
      "execution_count": 97,
      "id": "9a075fc8",
      "metadata": {},
      "outputs": [],
      "source": [
        "from lxml import etree, html as lhtml\n",
        "import requests\n",
        "import pandas as pd\n",
        "import requests\n",
        "from bs4 import BeautifulSoup\n",
        "from urllib.parse import urljoin"
      ]
    },
    {
      "cell_type": "code",
      "execution_count": 2,
      "id": "9007735c",
      "metadata": {},
      "outputs": [],
      "source": [
        "url = 'https://stepik.org/media/attachments/lesson/866758/mean_salary_by_city.html'\n",
        "response = requests.get(url)\n",
        "content = response.content\n",
        "\n",
        "tree = lhtml.fromstring(content)"
      ]
    },
    {
      "cell_type": "code",
      "execution_count": 3,
      "id": "3fd4b547",
      "metadata": {},
      "outputs": [
        {
          "data": {
            "text/html": [
              "<div>\n",
              "<style scoped>\n",
              "    .dataframe tbody tr th:only-of-type {\n",
              "        vertical-align: middle;\n",
              "    }\n",
              "\n",
              "    .dataframe tbody tr th {\n",
              "        vertical-align: top;\n",
              "    }\n",
              "\n",
              "    .dataframe thead th {\n",
              "        text-align: right;\n",
              "    }\n",
              "</style>\n",
              "<table border=\"1\" class=\"dataframe\">\n",
              "  <thead>\n",
              "    <tr style=\"text-align: right;\">\n",
              "      <th></th>\n",
              "      <th>city</th>\n",
              "      <th>mean_salary</th>\n",
              "    </tr>\n",
              "  </thead>\n",
              "  <tbody>\n",
              "    <tr>\n",
              "      <th>0</th>\n",
              "      <td>Анадырь</td>\n",
              "      <td>129200</td>\n",
              "    </tr>\n",
              "    <tr>\n",
              "      <th>1</th>\n",
              "      <td>Москва</td>\n",
              "      <td>113600</td>\n",
              "    </tr>\n",
              "    <tr>\n",
              "      <th>2</th>\n",
              "      <td>Салехард</td>\n",
              "      <td>106400</td>\n",
              "    </tr>\n",
              "    <tr>\n",
              "      <th>3</th>\n",
              "      <td>Южно-Сахалинск</td>\n",
              "      <td>99000</td>\n",
              "    </tr>\n",
              "    <tr>\n",
              "      <th>4</th>\n",
              "      <td>Магадан</td>\n",
              "      <td>95200</td>\n",
              "    </tr>\n",
              "  </tbody>\n",
              "</table>\n",
              "</div>"
            ],
            "text/plain": [
              "             city  mean_salary\n",
              "0         Анадырь       129200\n",
              "1          Москва       113600\n",
              "2        Салехард       106400\n",
              "3  Южно-Сахалинск        99000\n",
              "4         Магадан        95200"
            ]
          },
          "execution_count": 3,
          "metadata": {},
          "output_type": "execute_result"
        }
      ],
      "source": [
        "salary_info = {\n",
        "    'city': tree.xpath('//div[starts-with(@class, \"reg_name\")]/a/text()'),\n",
        "    'mean_salary': tree.xpath('//div/span[starts-with(@class, \"reg_salary\")]/text()'),\n",
        "}\n",
        "\n",
        "df = pd.DataFrame(salary_info, index=None)\n",
        "\n",
        "def clean_string(s):\n",
        "    s =  ''.join(s.split()) if isinstance(s, str) else s\n",
        "    s = s[:-1]\n",
        "    return s\n",
        "\n",
        "# Применение функции ко всем строкам всех столбцов\n",
        "df['mean_salary'] = df['mean_salary'].map(clean_string)\n",
        "df['mean_salary'] = df['mean_salary'].astype('int')\n",
        "df.head()"
      ]
    },
    {
      "cell_type": "markdown",
      "id": "c508b4b3-84be-40d3-afab-6d244722823c",
      "metadata": {
        "id": "c508b4b3-84be-40d3-afab-6d244722823c"
      },
      "source": [
        "# <center> 🌍 Парсим [automobili.ru](https://automobili.ru/cars/catalog/) 🚗\n",
        "\n",
        "В этой задаче вам предстоит спарсить дополнительные данные по моделям машин с сайта: https://automobili.ru/cars/catalog/ и добавить их в существующий датасет. Для того чтобы было проще понимать, в каком месте вы ошибаетесь (если такое происходит), мы разбили эту задачу на несколько степов, где постепенно будем парсить данный сайт."
      ]
    },
    {
      "cell_type": "markdown",
      "id": "cd34b352-05fe-4178-b5bf-aebc8531e163",
      "metadata": {
        "id": "cd34b352-05fe-4178-b5bf-aebc8531e163"
      },
      "source": [
        "<left> <img src='https://github.com/PeMikj/images/blob/main/images/image2.png?raw=true' width=\"750\" >"
      ]
    },
    {
      "cell_type": "markdown",
      "id": "51f660da-ea6d-43d6-a78b-617966bd52ea",
      "metadata": {
        "id": "51f660da-ea6d-43d6-a78b-617966bd52ea"
      },
      "source": [
        "## <center> 🕊 Собираем ссылки 🔗\n",
        "\n",
        "Для того чтобы начать доставать информацию о моделях, нужно вначале получить ссылки на эти модели. На первой странице сайта находится список всех марок. Вам нужно:\n",
        "\n",
        "1) Собрать все ссылки на автомобильные бренды (средствами автоматического парсинга).\n",
        "\n",
        "2) Пройтись по каждой из полученных ссылок и спарсить названия конкретных моделей автомобилей."
      ]
    },
    {
      "cell_type": "markdown",
      "id": "b02f9d2a-dee6-4b15-a0a1-3aa4b402e9b6",
      "metadata": {
        "id": "b02f9d2a-dee6-4b15-a0a1-3aa4b402e9b6"
      },
      "source": [
        "<left> <img src='https://github.com/PeMikj/images/blob/main/images/image3.png?raw=true' width=\"750\" >\n",
        "<left> <img src='https://github.com/PeMikj/images/blob/main/images/image4.png?raw=true' width=\"750\" >"
      ]
    },
    {
      "cell_type": "markdown",
      "id": "537ed011-4720-436a-b584-198f8312c02e",
      "metadata": {
        "id": "537ed011-4720-436a-b584-198f8312c02e"
      },
      "source": [
        "В итоге у вас должно найтись 325 ссылок, которые выглядят примерно так:"
      ]
    },
    {
      "cell_type": "markdown",
      "id": "7d506b43",
      "metadata": {
        "id": "7d506b43"
      },
      "source": [
        "<left> <img src='https://github.com/PeMikj/images/blob/main/images/image5.png?raw=true' width=\"750\" >"
      ]
    },
    {
      "cell_type": "markdown",
      "id": "27dabb57-26b9-4aa9-827d-780cbba021a8",
      "metadata": {
        "id": "27dabb57-26b9-4aa9-827d-780cbba021a8"
      },
      "source": [
        "Ответ - датафрейм с ссылками и названием модели. Датафрейм должен быть отсортирован по названию модели, а затем по ссылкам.\n",
        "`df.sort_values(by=['model', 'link'])`\n",
        "\n",
        "Пример:"
      ]
    },
    {
      "cell_type": "markdown",
      "id": "b02468f2-6e1c-4494-9d5d-7fbdde719c2b",
      "metadata": {
        "id": "b02468f2-6e1c-4494-9d5d-7fbdde719c2b"
      },
      "source": [
        "<left> <img src='https://github.com/PeMikj/images/blob/main/images/image6.png?raw=true' width=\"750\" >"
      ]
    },
    {
      "cell_type": "code",
      "execution_count": 104,
      "id": "12337541",
      "metadata": {},
      "outputs": [
        {
          "name": "stdout",
          "output_type": "stream",
          "text": [
            "/cars/catalog/\n",
            "/cars/catalog/aston_martin/\n",
            "/cars/catalog/audi/\n",
            "/cars/catalog/bentley/\n",
            "/cars/catalog/bmw/\n",
            "/cars/catalog/bugatti/\n",
            "/cars/catalog/cadillac/\n",
            "/cars/catalog/changan/\n",
            "/cars/catalog/chery/\n",
            "/cars/catalog/cheryexeed/\n",
            "/cars/catalog/chevrolet/\n",
            "/cars/catalog/citroen/\n",
            "/cars/catalog/dongfeng/\n",
            "/cars/catalog/faw/\n",
            "/cars/catalog/ferrari/\n",
            "/cars/catalog/fiat/\n",
            "/cars/catalog/geely/\n",
            "/cars/catalog/genesis/\n",
            "/cars/catalog/haval/\n",
            "/cars/catalog/honda/\n",
            "/cars/catalog/hyundai/\n",
            "/cars/catalog/infiniti/\n",
            "/cars/catalog/isuzu/\n",
            "/cars/catalog/jac/\n",
            "/cars/catalog/jaguar/\n",
            "/cars/catalog/jeep/\n",
            "/cars/catalog/kia/\n",
            "/cars/catalog/lada/\n",
            "/cars/catalog/lamborghini/\n",
            "/cars/catalog/land_rover/\n",
            "/cars/catalog/lexus/\n",
            "/cars/catalog/lifan/\n",
            "/cars/catalog/lotus/\n",
            "/cars/catalog/maserati/\n",
            "/cars/catalog/mazda/\n",
            "/cars/catalog/mercedes-benz/\n",
            "/cars/catalog/mini/\n",
            "/cars/catalog/mitsubishi/\n",
            "/cars/catalog/nissan/\n",
            "/cars/catalog/opel/\n",
            "/cars/catalog/peugeot/\n",
            "/cars/catalog/porsche/\n",
            "/cars/catalog/renault/\n",
            "/cars/catalog/rolls-royce/\n",
            "/cars/catalog/skoda/\n",
            "/cars/catalog/smart/\n",
            "/cars/catalog/subaru/\n",
            "/cars/catalog/suzuki/\n",
            "/cars/catalog/toyota/\n",
            "/cars/catalog/volkswagen/\n",
            "/cars/catalog/volvo/\n",
            "/cars/catalog/\n",
            "/cars/catalog/gas/\n",
            "/cars/catalog/uaz/\n",
            "/cars/catalog/aston_martin/\n",
            "/cars/catalog/audi/\n",
            "/cars/catalog/bentley/\n",
            "/cars/catalog/bmw/\n",
            "/cars/catalog/bugatti/\n",
            "/cars/catalog/cadillac/\n",
            "/cars/catalog/changan/\n",
            "/cars/catalog/chery/\n",
            "/cars/catalog/cheryexeed/\n",
            "/cars/catalog/chevrolet/\n",
            "/cars/catalog/citroen/\n",
            "/cars/catalog/dongfeng/\n",
            "/cars/catalog/faw/\n",
            "/cars/catalog/ferrari/\n",
            "/cars/catalog/fiat/\n",
            "/cars/catalog/geely/\n",
            "/cars/catalog/genesis/\n",
            "/cars/catalog/haval/\n",
            "/cars/catalog/honda/\n",
            "/cars/catalog/hyundai/\n",
            "/cars/catalog/infiniti/\n",
            "/cars/catalog/isuzu/\n",
            "/cars/catalog/jac/\n",
            "/cars/catalog/jaguar/\n",
            "/cars/catalog/jeep/\n",
            "/cars/catalog/kia/\n",
            "/cars/catalog/lada/\n",
            "/cars/catalog/lamborghini/\n",
            "/cars/catalog/land_rover/\n",
            "/cars/catalog/lexus/\n",
            "/cars/catalog/lifan/\n",
            "/cars/catalog/lotus/\n",
            "/cars/catalog/maserati/\n",
            "/cars/catalog/mazda/\n",
            "/cars/catalog/mercedes-benz/\n",
            "/cars/catalog/mini/\n",
            "/cars/catalog/mitsubishi/\n",
            "/cars/catalog/nissan/\n",
            "/cars/catalog/opel/\n",
            "/cars/catalog/peugeot/\n",
            "/cars/catalog/porsche/\n",
            "/cars/catalog/renault/\n",
            "/cars/catalog/rolls-royce/\n",
            "/cars/catalog/skoda/\n",
            "/cars/catalog/smart/\n",
            "/cars/catalog/subaru/\n",
            "/cars/catalog/suzuki/\n",
            "/cars/catalog/toyota/\n",
            "/cars/catalog/volkswagen/\n",
            "/cars/catalog/volvo/\n",
            "/cars/catalog/gas/\n",
            "/cars/catalog/uaz/\n",
            "/auth/?forgot_password=yes&backurl=/cars/catalog/\n",
            "/auth/?register=yes&backurl=/cars/catalog/\n",
            "/cars/catalog/\n"
          ]
        }
      ],
      "source": [
        "# URL страницы с автомобильными брендами\n",
        "url = 'https://automobili.ru/cars/catalog/'\n",
        "\n",
        "# Отправляем запрос к странице\n",
        "response = requests.get(url)\n",
        "\n",
        "# Проверяем, что запрос успешен\n",
        "if response.status_code == 200:\n",
        "    # Создаем объект BeautifulSoup для парсинга HTML\n",
        "    soup = BeautifulSoup(response.text, 'html.parser')\n",
        "    \n",
        "    # Находим все ссылки на автомобильные бренды\n",
        "    links = soup.find_all('a', href=True)  # Поиск всех ссылок\n",
        "    \n",
        "    # Фильтруем ссылки, чтобы оставить только те, которые ведут на автомобильные бренды\n",
        "    brand_links = [link['href'] for link in links if '/cars/catalog' in link['href'] and '?letter' not in link['href']]\n",
        "    # brand_links = [urljoin(url, link['href']) for link in links if '/cars/catalog' in link['href'] and '?letter' not in link['href']]\n",
        "\n",
        "    # Выводим найденные ссылки\n",
        "    for link in brand_links:\n",
        "        print(link)\n",
        "else:\n",
        "    print(f'Ошибка при запросе страницы: {response.status_code}')"
      ]
    },
    {
      "cell_type": "markdown",
      "id": "e027b6f4-364e-4db4-8646-4f8751c76659",
      "metadata": {
        "id": "e027b6f4-364e-4db4-8646-4f8751c76659"
      },
      "source": [
        "## <center> 👉👈 Матчим ссылки с датасетом\n",
        "\n",
        "Отлично! Мы получили ссылки на все модели машин, которые есть на сайте, но нам понадобится только небольшая часть, так как многие модели отсутствуют в изначальном датасете. В этом задании вам предстоит сопоставить ссылки и машины из датасета `quickstart_train.csv`."
      ]
    },
    {
      "cell_type": "code",
      "execution_count": null,
      "id": "715a8820-5e20-48d0-841b-07ca3234a39d",
      "metadata": {
        "id": "715a8820-5e20-48d0-841b-07ca3234a39d",
        "outputId": "90aa71e7-5466-49f3-a1b7-1b805bae15f5"
      },
      "outputs": [
        {
          "data": {
            "text/html": [
              "<div>\n",
              "<style scoped>\n",
              "    .dataframe tbody tr th:only-of-type {\n",
              "        vertical-align: middle;\n",
              "    }\n",
              "\n",
              "    .dataframe tbody tr th {\n",
              "        vertical-align: top;\n",
              "    }\n",
              "\n",
              "    .dataframe thead th {\n",
              "        text-align: right;\n",
              "    }\n",
              "</style>\n",
              "<table border=\"1\" class=\"dataframe\">\n",
              "  <thead>\n",
              "    <tr style=\"text-align: right;\">\n",
              "      <th></th>\n",
              "      <th>car_id</th>\n",
              "      <th>model</th>\n",
              "      <th>car_type</th>\n",
              "      <th>fuel_type</th>\n",
              "      <th>car_rating</th>\n",
              "      <th>year_to_start</th>\n",
              "      <th>riders</th>\n",
              "      <th>year_to_work</th>\n",
              "      <th>target_reg</th>\n",
              "      <th>target_class</th>\n",
              "      <th>mean_rating</th>\n",
              "      <th>distance_sum</th>\n",
              "      <th>rating_min</th>\n",
              "      <th>speed_max</th>\n",
              "      <th>user_ride_quality_median</th>\n",
              "      <th>deviation_normal_count</th>\n",
              "      <th>user_uniq</th>\n",
              "    </tr>\n",
              "  </thead>\n",
              "  <tbody>\n",
              "    <tr>\n",
              "      <th>0</th>\n",
              "      <td>y13744087j</td>\n",
              "      <td>Kia Rio X-line</td>\n",
              "      <td>economy</td>\n",
              "      <td>petrol</td>\n",
              "      <td>3.78</td>\n",
              "      <td>2015</td>\n",
              "      <td>76163</td>\n",
              "      <td>2021</td>\n",
              "      <td>109.99</td>\n",
              "      <td>another_bug</td>\n",
              "      <td>4.737759</td>\n",
              "      <td>1.214131e+07</td>\n",
              "      <td>0.1</td>\n",
              "      <td>180.855726</td>\n",
              "      <td>0.023174</td>\n",
              "      <td>174</td>\n",
              "      <td>170</td>\n",
              "    </tr>\n",
              "    <tr>\n",
              "      <th>1</th>\n",
              "      <td>O41613818T</td>\n",
              "      <td>VW Polo VI</td>\n",
              "      <td>economy</td>\n",
              "      <td>petrol</td>\n",
              "      <td>3.90</td>\n",
              "      <td>2015</td>\n",
              "      <td>78218</td>\n",
              "      <td>2021</td>\n",
              "      <td>34.48</td>\n",
              "      <td>electro_bug</td>\n",
              "      <td>4.480517</td>\n",
              "      <td>1.803909e+07</td>\n",
              "      <td>0.0</td>\n",
              "      <td>187.862734</td>\n",
              "      <td>12.306011</td>\n",
              "      <td>174</td>\n",
              "      <td>174</td>\n",
              "    </tr>\n",
              "    <tr>\n",
              "      <th>2</th>\n",
              "      <td>d-2109686j</td>\n",
              "      <td>Renault Sandero</td>\n",
              "      <td>standart</td>\n",
              "      <td>petrol</td>\n",
              "      <td>6.30</td>\n",
              "      <td>2012</td>\n",
              "      <td>23340</td>\n",
              "      <td>2017</td>\n",
              "      <td>34.93</td>\n",
              "      <td>gear_stick</td>\n",
              "      <td>4.768391</td>\n",
              "      <td>1.588366e+07</td>\n",
              "      <td>0.1</td>\n",
              "      <td>102.382857</td>\n",
              "      <td>2.513319</td>\n",
              "      <td>174</td>\n",
              "      <td>173</td>\n",
              "    </tr>\n",
              "  </tbody>\n",
              "</table>\n",
              "</div>"
            ],
            "text/plain": [
              "       car_id            model  car_type fuel_type  car_rating  year_to_start  \\\n",
              "0  y13744087j   Kia Rio X-line   economy    petrol        3.78           2015   \n",
              "1  O41613818T       VW Polo VI   economy    petrol        3.90           2015   \n",
              "2  d-2109686j  Renault Sandero  standart    petrol        6.30           2012   \n",
              "\n",
              "   riders  year_to_work  target_reg target_class  mean_rating  distance_sum  \\\n",
              "0   76163          2021      109.99  another_bug     4.737759  1.214131e+07   \n",
              "1   78218          2021       34.48  electro_bug     4.480517  1.803909e+07   \n",
              "2   23340          2017       34.93   gear_stick     4.768391  1.588366e+07   \n",
              "\n",
              "   rating_min   speed_max  user_ride_quality_median  deviation_normal_count  \\\n",
              "0         0.1  180.855726                  0.023174                     174   \n",
              "1         0.0  187.862734                 12.306011                     174   \n",
              "2         0.1  102.382857                  2.513319                     174   \n",
              "\n",
              "   user_uniq  \n",
              "0        170  \n",
              "1        174  \n",
              "2        173  "
            ]
          },
          "execution_count": 9,
          "metadata": {},
          "output_type": "execute_result"
        }
      ],
      "source": [
        "import pandas as pd\n",
        "\n",
        "path = 'https://stepik.org/media/attachments/lesson/866758/quickstart_train.csv'\n",
        "\n",
        "df = pd.read_csv(path)\n",
        "df.head(3)"
      ]
    },
    {
      "cell_type": "markdown",
      "id": "1827e8be-7b05-4c5a-a418-c16d80e488fd",
      "metadata": {
        "id": "1827e8be-7b05-4c5a-a418-c16d80e488fd"
      },
      "source": [
        "<left> <img src='https://github.com/PeMikj/images/blob/main/images/image7.png?raw=true' width=\"750\" >\n",
        "<left> <img src='https://github.com/PeMikj/images/blob/main/images/image8.png?raw=true' width=\"300\" >\n",
        "\n"
      ]
    },
    {
      "cell_type": "markdown",
      "id": "d5f9dee8-58a5-492b-80c8-d14bcde2c71a",
      "metadata": {
        "id": "d5f9dee8-58a5-492b-80c8-d14bcde2c71a"
      },
      "source": [
        "Далее нам нужно сматчить названия моделей машин в исходном и спаршенном датафреймах.\n",
        "Для решения задачи можно использовать разные способы измерения близости между двумя строками.\n",
        "\n",
        "Мы будем использовать алгоритм  нахождения наибольшей общей подпоследовательности - [википедия.](https://ru.wikipedia.org/wiki/%D0%9D%D0%B0%D0%B8%D0%B1%D0%BE%D0%BB%D1%8C%D1%88%D0%B0%D1%8F_%D0%BE%D0%B1%D1%89%D0%B0%D1%8F_%D0%BF%D0%BE%D0%B4%D0%BF%D0%BE%D1%81%D0%BB%D0%B5%D0%B4%D0%BE%D0%B2%D0%B0%D1%82%D0%B5%D0%BB%D1%8C%D0%BD%D0%BE%D1%81%D1%82%D1%8C)\n",
        "\n",
        "Для каждой модели в нашем исходном датафрейме нужно:\n",
        "\n",
        "1) Найти строку с названием модели в напаршенных данных с максимальным значением наибольшей общей подпоследовательности.\n",
        "\n",
        "2) Нормализовать значение наибольшей общей подпоследовательности на длину строки в исходном датафрейме.\n",
        "\n",
        "3) Отсечь те случаи, где нормализованное значение меньше 0.85.\n",
        "\n",
        "4) Если не удалось найти матч - заполняем np.nan.\n",
        "\n",
        "\n",
        "P.S. Также нужно заменить `vw` на `volkswagen` в изначальном датасете, чтоб было больше совпадений. Нужно понимать, что идеально сматчить не всегда получится, поэтому иногда приходится прибегать к эвристикам, но мы в данном задании этого делать не будем."
      ]
    },
    {
      "cell_type": "markdown",
      "id": "079df533",
      "metadata": {
        "id": "079df533"
      },
      "source": [
        "Пример матчинга между названиями машин в исходном датафрейме и напаршенном.\n",
        "Для каждого названия авто из исходного датафрейма находится название из напаршенного с наибольшим значением наибольшей общей подпоследовательности."
      ]
    },
    {
      "cell_type": "markdown",
      "id": "b9f7e054-647d-40c7-b3e3-c9c879a94cf9",
      "metadata": {
        "id": "b9f7e054-647d-40c7-b3e3-c9c879a94cf9"
      },
      "source": [
        "<left> <img src='https://github.com/PeMikj/images/blob/main/images/image9.png?raw=true' width=\"550\" >"
      ]
    },
    {
      "cell_type": "markdown",
      "id": "565bc4a2-aebc-4ee2-ac51-58fc07dc865b",
      "metadata": {
        "id": "565bc4a2-aebc-4ee2-ac51-58fc07dc865b"
      },
      "source": [
        "## <center> ⚗️ Достаем технические характеристики\n",
        "\n",
        "Достаем информацию о машинах\n",
        "\n",
        "Отлично! Ссылки мы достали, теперь пришло время получить необходимые данные из них. Это скриншот того, как выглядит страничка сайта для конкретной модели (в нашем случае Renault Sandero):"
      ]
    },
    {
      "cell_type": "markdown",
      "id": "1dcde0b2",
      "metadata": {
        "id": "1dcde0b2"
      },
      "source": [
        "<left> <img src='https://github.com/PeMikj/images/blob/main/images/image10.png?raw=true' width=\"750\" >\n"
      ]
    },
    {
      "cell_type": "markdown",
      "id": "74e3ff59-d5ac-433f-9e2d-692781f70eb7",
      "metadata": {
        "id": "74e3ff59-d5ac-433f-9e2d-692781f70eb7"
      },
      "source": [
        "Отсюда вам необходимо для каждой модели получить следующую информацию:\n",
        "\n",
        "1) `year` - год начала выпуска модели (целое число);\n",
        "2) `mod` - название модификации;\n",
        "3) `price` - рекомендованная цена (целое число);\n",
        "4) `engine` - тип двигателя;\n",
        "5) `power` - мощность в л.с.;\n",
        "6) `box` - тип коробки передач;\n",
        "7) `trans` - тип трансмиссии;\n",
        "8) `body` - тип кузова;\n",
        "\n",
        "\n",
        "Это все можно сделать при помощи BeautifulSoap.\n",
        "\n",
        "Мы берем значения только для самой первой модификации!\n",
        "\n",
        "Далее соединяем с нашим исходным датасетом. `model` - столбик по которому мы соединяем датасеты."
      ]
    },
    {
      "cell_type": "markdown",
      "id": "0077b3ee-cf9b-4186-ad65-a1cfc017cd67",
      "metadata": {
        "id": "0077b3ee-cf9b-4186-ad65-a1cfc017cd67"
      },
      "source": [
        "Получившийся датасет - решение задачи (не изменяйте порядок строк в изначальном датасете).\n",
        "\n",
        "Пример результата (для удобства представления в исходном датасете сохранены только колонки `car_id` и `model`, но вам нужны все колонки из исходного датасета):"
      ]
    },
    {
      "cell_type": "markdown",
      "id": "lQZAPYIwiKRY",
      "metadata": {
        "id": "lQZAPYIwiKRY"
      },
      "source": [
        "<left> <img src='https://github.com/PeMikj/images/blob/main/images/image11.png?raw=true' width=\"850\" >"
      ]
    },
    {
      "cell_type": "markdown",
      "id": "484b156a",
      "metadata": {
        "id": "484b156a"
      },
      "source": [
        "## <center> 🏋️‍♂️Тренировка с новыми данными"
      ]
    },
    {
      "cell_type": "markdown",
      "id": "e8f51712",
      "metadata": {
        "id": "e8f51712"
      },
      "source": [
        "Обучите модель на обогащенном датасете и сравните результат с предыдущими.\n",
        "\n",
        "Отправьте сабмишн на kaggle.\n",
        "\n",
        "Сделайте выводы."
      ]
    }
  ],
  "metadata": {
    "colab": {
      "provenance": []
    },
    "kernelspec": {
      "display_name": "Python 3 (ipykernel)",
      "language": "python",
      "name": "python3"
    },
    "language_info": {
      "codemirror_mode": {
        "name": "ipython",
        "version": 3
      },
      "file_extension": ".py",
      "mimetype": "text/x-python",
      "name": "python",
      "nbconvert_exporter": "python",
      "pygments_lexer": "ipython3",
      "version": "3.12.4"
    }
  },
  "nbformat": 4,
  "nbformat_minor": 5
}
